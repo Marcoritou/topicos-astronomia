{
 "cells": [
  {
   "cell_type": "code",
   "execution_count": 3,
   "id": "a5d75fc2-4bc1-41c0-8e9f-bf6ea2829801",
   "metadata": {},
   "outputs": [
    {
     "name": "stdout",
     "output_type": "stream",
     "text": [
      "# objID                 ra                   dec                  z             rp                   dV                   Mr                    gr                    C           dn4000      logSSFR       logSM       \n",
      "  1237667783373815894   190.36509242025133   22.93077982861949    0.035670865   17.26313891690042    3771.2595981359486   -20.668733995090065   0.4301385027959519    2.1917648   1.337758    -9.822911     9.939624    \n",
      "  1237667783914684423   200.29327450857346   22.691551278673664   0.031448953   16.695315905655725   2504.6858561038975   -21.08690946816583    0.7010758296076993    2.8515496   1.293469    -9.765995     10.571441   \n",
      "  1237667910060867716   196.25274943634537   23.49141297002381    0.034404837   11.831493435744028   3391.450978517533    -20.35240821291448    0.7083040696870277    2.8152108   1.7430892   -11.745109    10.202046   \n",
      "  1237668273507663949   199.06978528401143   20.5682888292296     0.022718353   14.026255439924718   114.49404090642899   -18.288184026483297   0.4734471630223567    2.2428148   1.2137398   -10.00625     8.993817    \n",
      "  1237668298205823173   189.23873649105698   20.109205846179133   0.031253077   21.881860869576528   2445.9231269359593   -18.529408642618197   0.4094707291254238    2.2638974   1.3398062   -10.043061    8.957292    \n",
      "  1237665440440057995   189.6985090182579    28.84174249870189    0.024183948   8.445872838421682    325.184277892113     -18.505414234744876   0.38744817981047674   1.965976    1.3777486   -9.744792     9.017021    \n",
      "  1237665440440057995   189.6985090182579    28.84174249870189    0.024157437   8.436684457027182    317.23096936941175   -18.502976447421286   0.38744141160526624   1.965976    1.3283008   -9.760278     9.016057    \n",
      "  1237665440445300946   203.1749816390872    27.650531244320984   0.025711175   13.89582998676521    783.352516293526     -18.071526229992628   0.4736846270224824    2.007724    1.3561883   -10.112664    8.840116    \n",
      "  1237665440982433978   203.93767144394113   27.867617944537297   0.027022246   15.922305043403112   1176.6738814115527   -20.66855335263697    0.7821425668588873    2.3977876   1.3069539   -10.537204    10.501485   \n"
     ]
    }
   ],
   "source": [
    "!head Campo_ComaCluster_TP2024_Topicos.dat"
   ]
  },
  {
   "cell_type": "code",
   "execution_count": 31,
   "id": "da61903b-4a61-4ba3-a0f2-9e7778d371b1",
   "metadata": {},
   "outputs": [],
   "source": [
    "# As we can see the dat file is simple enough to read, lets use numpy directly\n",
    "import numpy as np"
   ]
  },
  {
   "cell_type": "code",
   "execution_count": 32,
   "id": "571f98db-c453-4da2-b8f3-885606744a8c",
   "metadata": {},
   "outputs": [],
   "source": [
    "filename = 'Campo_ComaCluster_TP2024_Topicos.dat'\n",
    "rawdata = np.loadtxt(filename)\n",
    "# Simple enough then the header is as follows\n",
    "header = np.array([\"objID\",\"ra\",\"dec\",\"z\",\"rp\",\"dV\",\"Mr\",\"gr\",\"C\",\"dn4000\",\"logSSFR\",\"logSM\"])"
   ]
  },
  {
   "cell_type": "code",
   "execution_count": 33,
   "id": "dd791c5d-3015-4183-a7d9-80fbb8a1a271",
   "metadata": {},
   "outputs": [
    {
     "data": {
      "text/plain": [
       "((3436, 12), (12,))"
      ]
     },
     "execution_count": 33,
     "metadata": {},
     "output_type": "execute_result"
    }
   ],
   "source": [
    "rawdata.shape,header.shape"
   ]
  },
  {
   "cell_type": "code",
   "execution_count": 34,
   "id": "66bb0953-dca7-4b45-a306-d9b0cbcb341c",
   "metadata": {},
   "outputs": [
    {
     "name": "stdout",
     "output_type": "stream",
     "text": [
      "dictionary created\n"
     ]
    }
   ],
   "source": [
    "# lets move the data to an easily understandable dictionary for manipulation :D\n",
    "# then delete the raw data array to save memory\n",
    "data = {}\n",
    "i = 0\n",
    "for col in header:\n",
    "    data[col] = rawdata[:,i]\n",
    "    i += 1\n",
    "print('dictionary created')\n",
    "del rawdata\n",
    "del header"
   ]
  },
  {
   "cell_type": "code",
   "execution_count": 46,
   "id": "b5b5ea45-8200-4d1b-8081-cf7a29e6521c",
   "metadata": {},
   "outputs": [
    {
     "data": {
      "text/plain": [
       "{'objID': array([1.23766778e+18, 1.23766778e+18, 1.23766791e+18, ...,\n",
       "        1.23766744e+18, 1.23766744e+18, 1.23766774e+18]),\n",
       " 'ra': array([190.36509242, 200.29327451, 196.25274944, ..., 194.50649495,\n",
       "        194.6576242 , 190.47107725]),\n",
       " 'dec': array([22.93077983, 22.69155128, 23.49141297, ..., 27.48966584,\n",
       "        27.46395368, 22.34880181]),\n",
       " 'z': array([0.03567087, 0.03144895, 0.03440484, ..., 0.02543061, 0.0209099 ,\n",
       "        0.02320768]),\n",
       " 'rp': array([17.26313892, 16.69531591, 11.83149344, ...,  1.19052802,\n",
       "         0.90078389, 11.96794387]),\n",
       " 'dV': array([3771.25959814, 2504.6858561 , 3391.45097852, ...,  699.18423861,\n",
       "         657.03116387,   32.30493486]),\n",
       " 'Mr': array([-20.668734  , -21.08690947, -20.35240821, ..., -20.86004954,\n",
       "        -19.00411459, -19.0197875 ]),\n",
       " 'gr': array([0.4301385 , 0.70107583, 0.70830407, ..., 0.70748191, 0.63790145,\n",
       "        0.56356677]),\n",
       " 'C': array([2.1917648, 2.8515496, 2.8152108, ..., 2.7672927, 2.4587986,\n",
       "        2.324248 ]),\n",
       " 'dn4000': array([1.337758 , 1.293469 , 1.7430892, ..., 1.7969263, 1.3141031,\n",
       "        1.3208897]),\n",
       " 'logSSFR': array([ -9.822911,  -9.765995, -11.745109, ..., -11.795789, -10.341716,\n",
       "        -10.53664 ]),\n",
       " 'logSM': array([ 9.939624, 10.571441, 10.202046, ..., 10.459375,  9.731257,\n",
       "         9.499077])}"
      ]
     },
     "execution_count": 46,
     "metadata": {},
     "output_type": "execute_result"
    }
   ],
   "source": [
    "data"
   ]
  },
  {
   "cell_type": "code",
   "execution_count": 18,
   "id": "9c897e87-0914-4bce-81c6-78ab2a83bd22",
   "metadata": {},
   "outputs": [],
   "source": [
    "# Now with the data loaded, we will probably need some visualization tools ;D\n",
    "import matplotlib.pyplot as plt"
   ]
  },
  {
   "cell_type": "code",
   "execution_count": 49,
   "id": "d526c124-759b-475e-91d8-36c0854457e2",
   "metadata": {},
   "outputs": [],
   "source": [
    "# Some general Coma Cluster data\n",
    "ra_coma = 194.9531\n",
    "dec_coma = 27.9807\n",
    "z_coma = 0.0231"
   ]
  },
  {
   "cell_type": "code",
   "execution_count": 60,
   "id": "1e03dfad-a37c-4cda-93aa-fa682778333a",
   "metadata": {},
   "outputs": [
    {
     "data": {
      "image/png": "[encoded data removed]",
      "text/plain": [
       "<Figure size 360x360 with 1 Axes>"
      ]
     },
     "metadata": {
      "needs_background": "light"
     },
     "output_type": "display_data"
    }
   ],
   "source": [
    "fig,ax = plt.subplots(1,1,figsize=(5,5))\n",
    "ax.hist2d(data['ra'],data['dec'],weights=data['Mr'],bins=100,cmap='Greys')\n",
    "ax.scatter(ra_coma,dec_coma,c='red',s=100,marker='+')\n",
    "plt.show()"
   ]
  },
  {
   "cell_type": "code",
   "execution_count": 70,
   "id": "40df0d83-8597-45e0-986a-9560a727a605",
   "metadata": {},
   "outputs": [
    {
     "data": {
      "image/png": "[encoded data removed]",
      "text/plain": [
       "<Figure size 720x360 with 2 Axes>"
      ]
     },
     "metadata": {
      "needs_background": "light"
     },
     "output_type": "display_data"
    }
   ],
   "source": [
    "fig,axes = plt.subplots(1,2,figsize=(10,5))\n",
    "axes[0].hist(data['dV'],bins=100)\n",
    "axes[1].hist(data['z'],bins=100)\n",
    "axes[1].plot(np.full(10,z_coma),np.linspace(0,150,10),'--r')\n",
    "plt.show()"
   ]
  },
  {
   "cell_type": "code",
   "execution_count": null,
   "id": "65a9d890-bf5d-43b3-8199-5e74cfd9827f",
   "metadata": {},
   "outputs": [],
   "source": []
  }
 ],
 "metadata": {
  "kernelspec": {
   "display_name": "Python 3 (ipykernel)",
   "language": "python",
   "name": "python3"
  },
  "language_info": {
   "codemirror_mode": {
    "name": "ipython",
    "version": 3
   },
   "file_extension": ".py",
   "mimetype": "text/x-python",
   "name": "python",
   "nbconvert_exporter": "python",
   "pygments_lexer": "ipython3",
   "version": "3.9.12"
  }
 },
 "nbformat": 4,
 "nbformat_minor": 5
}
