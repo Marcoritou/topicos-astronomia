


!head Campo_ComaCluster_TP2024_Topicos.dat


# As we can see the dat file is simple enough to read, lets use numpy directly
import numpy as np


filename = 'Campo_ComaCluster_TP2024_Topicos.dat'
rawdata = np.loadtxt(filename)
# Simple enough then the header is as follows
header = np.array(["objID","ra","dec","z","rp","dV","Mr","gr","C","dn4000","logSSFR","logSM"])


rawdata.shape,header.shape


# lets move the data to an easily understandable dictionary for manipulation :D
# then delete the raw data array to save memory
data = {}
i = 0
for col in header:
    data[col] = rawdata[:,i]
    i += 1
print('dictionary created')
del rawdata
del header


data


# Now with the data loaded, we will probably need some visualization tools ;D
import matplotlib.pyplot as plt


# Some general Coma Cluster data
ra_coma = 194.9531
dec_coma = 27.9807
z_coma = 0.0231


fig,ax = plt.subplots(1,1,figsize=(5,5))
ax.hist2d(data['ra'],data['dec'],weights=data['Mr'],bins=100,cmap='Greys')
ax.scatter(ra_coma,dec_coma,c='red',s=100,marker='+')
plt.show()


fig,axes = plt.subplots(1,2,figsize=(10,5))
axes[0].hist(data['dV'],bins=100,histtype='step',color='blue')
axes[1].hist(data['z'],bins=100,histtype='step',color='blue')
axes[1].plot(np.full(10,z_coma),np.linspace(0,150,10),'--r')
plt.show()


# Now we have a reasonable overview of the raw data, to differentiate the cluster members
# Lets define a function for loading the data to dictionary, and then operate on that





import numpy as np
import matplotlib.pyplot as plt
import h5py


def txt_to_dic(filename):
    """
    Converts the file to a dictionary, makes things easier to read.
    """
    dic = {}
    rawdata = np.loadtxt(filename)
    header = np.array(["objID","ra","dec","z","rp","dV","Mr","gr","C","dn4000","logSSFR","logSM"])
    i = 0
    for col in header:
        dic[col] = rawdata[:,i]
        i += 1
    return dic


data = txt_to_dic('Campo_ComaCluster_TP2024_Topicos.dat')
data.keys()


fig,axes = plt.subplots(1,3,figsize=(15,5))
axes[0].scatter(data['ra'],data['dec'],s=5,marker='+',color='black',zorder=1)
axes[1].hist(data['dV'],bins=100,histtype='step',color='black')
axes[2].hist(data['rp'],bins=100,histtype='step',color='black')
plt.show()


fig,axes = plt.subplots(1,3,figsize=(15,5))
axes[0].scatter(data['ra'],data['dec'],s=5,marker='+',color='black',zorder=1)
# filter by rp(projected distance[Mpc]) and dV under 1000[km/s]
filtr = ((data['rp'] <= 2.5) & (data['dV'] <= 1e3))
axes[0].scatter(data['ra'][filtr],data['dec'][filtr],s=5,marker='+',color='green',zorder=100)
# dV
hist,bins,_ = axes[1].hist(data['dV'],bins=50,histtype='step',color='black')
axes[1].hist(data['dV'][filtr],bins=bins,histtype='step',color='green')
# rp
hist,bins,_ = axes[2].hist(data['rp'],bins=50,histtype='step',color='black')
axes[2].hist(data['rp'][filtr],bins=bins,histtype='step',color='green')

print(len(data['ra'][filtr]), 'members found')
plt.show()


cluster_member_data = {}
for key in data.keys():
    cluster_member_data[key] = data[key][filtr]
cluster_member_data['count'] = len(cluster_member_data[key])


fig,axes = plt.subplots(1,3,figsize=(15,5))
axes[0].scatter(cluster_member_data['ra'],cluster_member_data['dec'],s=30,marker='+',color='green',zorder=100)
# dV
axes[1].hist(cluster_member_data['dV'],bins=10,histtype='step',color='green')
# rp
axes[2].hist(cluster_member_data['rp'],bins=10,histtype='step',color='green')
print(cluster_member_data['count'], 'members found')
plt.show()


# Lets save these important cluster members into a file, and hdf5 file that is
with h5py.File('cluster_member.hdf5','w') as file:
    for key in cluster_member_data.keys():
        file[key] = cluster_member_data[key]


# Lets save all data as well, maybe it will be useful
with h5py.File('Campo.hdf5','w') as file:
    for key in data.keys():
        file[key] = data[key]
    file['count'] = len(data[key])





# Checking saved data
with h5py.File('Campo.hdf5','r') as file:
    print(file['count'][()])
    print(file.keys())
with h5py.File('cluster_member.hdf5','r') as file:
    print(file['count'][()])
    print(file.keys())





# Lets look at color-magnitude of the cluster members
fig, ax = plt.subplots(1,1,figsize=(5,5))
with h5py.File('Campo.hdf5','r') as data:
    ax.scatter(data['Mr'],data['gr'],s=20,marker='*',color='black',zorder=1,alpha=0.1,label='Field')

with h5py.File('cluster_member.hdf5','r') as data:
    region1 = (data['rp'][:] <= 0.5)
    region2 = ((data['rp'][:] > 0.5) & (data['rp'][:] <= 1.5))
    region3 = ((data['rp'][:] > 1.5) & (data['rp'][:] <= 2.5))
    ax.scatter(data['Mr'][region1],data['gr'][region1],s=30,marker='+',color='blue',zorder=100,label='')
    ax.scatter(data['Mr'][region2],data['gr'][region2],s=30,marker='+',color='cyan',zorder=100,label='')
    ax.scatter(data['Mr'][region3],data['gr'][region3],s=30,marker='+',color='magenta',zorder=100,label='')

ax.legend()
ax.set_xlabel(r'$M_r$')
ax.set_ylabel(r'$M_g-M_r$')
fig.savefig('figures/cmd_cluster',dpi=300)


# Lets look at the log sSFR vs Mr
fig, ax = plt.subplots(1,1,figsize=(5,5))
with h5py.File('Campo.hdf5','r') as data:
    ax.scatter(data['Mr'][:],data['logSSFR'],s=20,marker='*',color='black',zorder=1,alpha=0.1,label='Field')

with h5py.File('cluster_member.hdf5','r') as data:
    ax.scatter(data['Mr'][:],data['logSSFR'],s=30,marker='+',color='blue',zorder=100,label='Coma Cluster members')
ax.legend()
ax.set_xlabel(r'$M_r$')
ax.set_ylabel(r'$log(sSFR {[M_\odot / yr]})$')
fig.savefig('figures/cmd_cluster',dpi=300)


# Lets look at the 
