!head AGN_practico_topicos.dat


import numpy as np
import astropy


from astropy.io import ascii
SDSS_compact = ascii.read("SDSS_Compact_Groups.dat")


np.mean(SDSS_compact['ra']-SDSS_compact['_RAJ2000'])


SDSS_compact.keys()


import matplotlib.pyplot as plt


# y > 0.61/(x-0.05) + 1.3


fig, axes = plt.subplots(1,3,figsize=(12,4),sharey=True,squeeze=True)

x = np.linspace(-2.1,0.25,50)
xalt = np.linspace(-2.1,-0.99,50)
y1 = ((0.61)/(x-0.47))+1.19
y2 = ((0.72)/(x-0.32))+1.30
y3 = ((0.73)/(xalt+0.59))+1.33
x2 = np.linspace(-.3,0.25,50)
x3 = np.linspace(-1.1,0.25,50)
y2_2 = 1.89*x2+0.76
y3_2 = 1.18*x3+1.30

fig.tight_layout()
for ax in axes:
    ax.axis('equal')
    pass
axes[0].scatter(SDSS_compact['bptx'],SDSS_compact['bpty'],s=10,color='blue')
axes[0].plot(x,y1,'--',color='black')
axes[0].set_xlim(-1.4,1)
axes[0].set_ylim(-.5,1.5)
axes[1].scatter(SDSS_compact['bptx2'],SDSS_compact['bpty'],s=10,color='blue')
axes[1].plot(x,y2,'--',color='black')
axes[1].plot(x2,y2_2,'--',color='black')
axes[1].set_xlim(-1.1,0.8)
axes[1].set_ylim(-.5,1.5)
axes[2].scatter(SDSS_compact['bptx3'],SDSS_compact['bpty'],s=10,color='blue')
axes[2].plot(xalt,y3,'--',color='black')
axes[2].plot(x3,y3_2,'--',color='black')
axes[2].set_xlim(-2.1,.2)
axes[2].set_ylim(-.5,1.5)


(SDSS_compact['bpty'] >= ((0.61)/(SDSS_compact['bptx']-0.47))+1.19)


((SDSS_compact['bpty'] >= ((0.72)/(SDSS_compact['bptx']-0.32))+1.30) & (SDSS_compact['bpty'] <= 1.89*SDSS_compact['bptx2']+0.76))


((SDSS_compact['bpty'] >= ((0.72)/(SDSS_compact['bptx']-0.32))+1.30) & (SDSS_compact['bpty'] >= 1.89*SDSS_compact['bptx2']+0.76))


(SDSS_compact['bpty'] >= (((0.73)/(SDSS_compact['bptx3']+0.59))+1.33)) & (SDSS_compact['bpty'] >= 1.18*SDSS_compact['bptx3']+1.30)





plt.hist(SDSS_compact['z_1'],bins=20,histtype='step')
plt.show()


plt.hist(SDSS_compact['Mr'],bins=20,histtype='step')
plt.show()



