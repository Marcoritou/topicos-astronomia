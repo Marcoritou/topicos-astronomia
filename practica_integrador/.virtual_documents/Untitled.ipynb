!head AGN_practico_topicos.dat


import numpy as np
import astropy


from astropy.io import ascii
SDSS_compact = ascii.read("SDSS_Compact_Groups.dat")


np.mean(SDSS_compact['ra']-SDSS_compact['_RAJ2000'])


SDSS_compact.keys()


import matplotlib.pyplot as plt





fig, axes = plt.subplots(1,3,figsize=(12,4),sharey=True)

x = 


axes[0].scatter(SDSS_compact['bptx'],SDSS_compact['bpty'],s=5)
axes[0].set_xlim(-1.4,1)
axes[0].set_ylim(-.5,1.5)
axes[1].scatter(SDSS_compact['bptx2'],SDSS_compact['bpty'],s=5)
axes[1].set_xlim(-1.1,0.8)
axes[1].set_ylim(-.5,1.5)
axes[2].scatter(SDSS_compact['bptx3'],SDSS_compact['bpty'],s=5)
axes[2].set_xlim(-2.1,.2)
axes[2].set_ylim(-.5,1.5)


plt.hist(SDSS_compact['z_1'],bins=20,histtype='step')
plt.show()


plt.hist(SDSS_compact['Mr'],bins=20,histtype='step')
plt.show()



